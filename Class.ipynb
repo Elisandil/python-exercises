{
 "cells": [
  {
   "cell_type": "markdown",
   "id": "03e8234b",
   "metadata": {},
   "source": [
    "### Crea una clase Persona que tenga los atributos nombre y edad. Crea dos objetos e imprime sus datos."
   ]
  },
  {
   "cell_type": "code",
   "execution_count": null,
   "id": "cd980d43",
   "metadata": {},
   "outputs": [],
   "source": [
    "class Persona:\n",
    "    def __init__(self, nombre, edad):\n",
    "        self.nombre = nombre\n",
    "        self.edad = edad\n",
    "\n",
    "def main():\n",
    "    p1 = Persona(\"Antonio\", 37)\n",
    "    print(\"El nombre de la persona es:\", p1.nombre, \"y tiene\", p1.edad, \"años.\")\n",
    "\n",
    "main()"
   ]
  },
  {
   "cell_type": "markdown",
   "id": "d91a6ec7",
   "metadata": {},
   "source": [
    "### Añade un método saludar() a la clase Persona que imprima un saludo con el nombre de la persona."
   ]
  },
  {
   "cell_type": "code",
   "execution_count": null,
   "id": "5f7ce032",
   "metadata": {},
   "outputs": [],
   "source": [
    "class Persona:\n",
    "    def __init__(self, nombre, edad):\n",
    "        self.nombre = nombre\n",
    "        self.edad = edad\n",
    "\n",
    "    def saludar(self):\n",
    "        print(\"Hola, me llamo\", self.nombre)\n",
    "\n",
    "def main():\n",
    "    p2 = Persona(\"Alejando\", 30)\n",
    "    p2.saludar()\n",
    "\n",
    "main()"
   ]
  },
  {
   "cell_type": "markdown",
   "id": "3f57abaf",
   "metadata": {},
   "source": [
    "### Crea una clase CuentaBancaria con un atributo privado __saldo y métodos depositar() y retirar(). Evita que el saldo se modifique directamente desde fuera."
   ]
  },
  {
   "cell_type": "code",
   "execution_count": null,
   "id": "0f7f6bbe",
   "metadata": {},
   "outputs": [],
   "source": [
    "class CuentaBancaria:\n",
    "    def __init__(self, saldo_inicial):\n",
    "        self.__saldo = saldo_inicial\n",
    "\n",
    "    def depositar(self, cantidad_depositada):\n",
    "        self.__saldo += cantidad_depositada\n",
    "\n",
    "    def retirar(self, cantidad_retirada):\n",
    "        \n",
    "        if cantidad_retirada <= self.__saldo:\n",
    "            self.__saldo -= cantidad_retirada\n",
    "        else:\n",
    "            print(\"No hay fondos suficientes\")\n",
    "\n",
    "    def obtener_saldo(self):\n",
    "        return self.__saldo\n",
    "\n",
    "\n",
    "def main():\n",
    "    c1 = CuentaBancaria(1000)\n",
    "    print(f\"La cuenta bancaria dispone de {c1.obtener_saldo()} €\")\n",
    "\n",
    "    c1.depositar(500)\n",
    "    c1.retirar(200)\n",
    "    print(f\"Saldo final: {c1.obtener_saldo()} €\")\n",
    "\n",
    "main()"
   ]
  },
  {
   "cell_type": "markdown",
   "id": "74f9c0d3",
   "metadata": {},
   "source": [
    "### Crea una clase Vehículo con el atributo marca y un método acelerar(). Luego crea una clase Coche que herede de Vehículo y que tenga un atributo modelo."
   ]
  },
  {
   "cell_type": "code",
   "execution_count": null,
   "id": "870dc148",
   "metadata": {},
   "outputs": [],
   "source": [
    "class Vehiculo:\n",
    "    def __init__(self, marca):\n",
    "        self.estado_inicial = 0\n",
    "        self.marca = marca\n",
    "\n",
    "    def acelerar(self, velocidad):\n",
    "\n",
    "        if velocidad > 0:\n",
    "            self.estado_inicial += velocidad\n",
    "        else:\n",
    "            print(\"Al acelerar la velocidad debe de ser mayor que 0\")\n",
    "\n",
    "class Coche(Vehiculo):\n",
    "    def __init__(self, marca, modelo):\n",
    "        super().__init__(marca)\n",
    "        self.modelo = modelo\n",
    "\n",
    "def main():\n",
    "    v1 = Vehiculo(\"Mercedes\")\n",
    "    print(v1.marca)\n",
    "    v1.acelerar(25)\n",
    "    print(v1.estado_inicial)\n",
    "\n",
    "    print(\"-----------------------------\")\n",
    "\n",
    "    c1 = Coche(\"Volkswagen\", \"Passat\")\n",
    "    print(c1.marca, c1.modelo)\n",
    "\n",
    "main()"
   ]
  },
  {
   "cell_type": "markdown",
   "id": "191595fa",
   "metadata": {},
   "source": [
    "### En el ejercicio anterior sobreescribe el método acelerar() en Coche para mostrar un mensaje distinto."
   ]
  },
  {
   "cell_type": "code",
   "execution_count": null,
   "id": "916507ba",
   "metadata": {},
   "outputs": [],
   "source": [
    "class Vehiculo:\n",
    "    def __init__(self, marca):\n",
    "        self.estado_inicial = 0\n",
    "        self.marca = marca\n",
    "\n",
    "    def acelerar(self, velocidad):\n",
    "\n",
    "        if velocidad > 0 and self.estado_inicial >= 0:\n",
    "            self.estado_inicial += velocidad\n",
    "        else:\n",
    "            print(\"Al acelerar la velocidad debe de ser mayor que 0\")\n",
    "\n",
    "class Coche(Vehiculo):\n",
    "    def __init__(self, marca, modelo):\n",
    "        super().__init__(marca)\n",
    "        self.modelo = modelo\n",
    "\n",
    "    def acelerar(self, velocidad):\n",
    "        print(f\"El coche: {self.marca} {self.modelo} esta roto y no acelera\")\n",
    "\n",
    "\n",
    "def main():\n",
    "    v1 = Vehiculo(\"Mercedes\")\n",
    "    print(v1.marca)\n",
    "    v1.acelerar(25)\n",
    "    print(f\"La Velocidad alcanzada es {v1.estado_inicial} km/h\")\n",
    "\n",
    "    print(\"-----------------------------\")\n",
    "\n",
    "    c1 = Coche(\"Volkswagen\", \"Passat\")\n",
    "    print(c1.marca, c1.modelo)\n",
    "    c1.acelerar(45)\n",
    "\n",
    "main()"
   ]
  },
  {
   "cell_type": "markdown",
   "id": "ae2d5e32",
   "metadata": {},
   "source": [
    "### Crea dos clases: Gato y Perro, ambas con un método sonido(). Luego crea una función que reciba un animal y ejecute sonido(). Prueba pasándole un Perro y un Gato."
   ]
  },
  {
   "cell_type": "code",
   "execution_count": null,
   "id": "f94fdeb7",
   "metadata": {},
   "outputs": [],
   "source": [
    "class Gato:\n",
    "    def sonido(self):\n",
    "        print(\"El gato hace miauuuuuuu\")\n",
    "\n",
    "class Perro:\n",
    "    def sonido(self):\n",
    "        print(\"El perro hace guau, guau\")\n",
    "\n",
    "def hacer_sonido(animal):\n",
    "    animal.sonido()\n",
    "\n",
    "def main():\n",
    "    g = Gato()\n",
    "    hacer_sonido(g)\n",
    "\n",
    "    print(\"----------------\")\n",
    "\n",
    "    p = Perro()\n",
    "    hacer_sonido(p)\n",
    "\n",
    "main()"
   ]
  },
  {
   "cell_type": "markdown",
   "id": "ffd04954",
   "metadata": {},
   "source": [
    "### Crea una clase Usuario que cuente cuántos objetos se crean mediante un atributo de clase contador. Incluye un método @classmethod que devuelva ese número."
   ]
  },
  {
   "cell_type": "code",
   "execution_count": null,
   "id": "830fa3f1",
   "metadata": {},
   "outputs": [],
   "source": [
    "class Usuario:\n",
    "    contador = 0\n",
    "\n",
    "    def __init__(self):\n",
    "        Usuario.contador += 1\n",
    "\n",
    "    @classmethod\n",
    "    def get_contador(cls):\n",
    "        return cls.contador\n",
    "    \n",
    "def main():\n",
    "    u1 = Usuario()\n",
    "    print(u1.get_contador())\n",
    "\n",
    "    u2 = Usuario()\n",
    "    print(u2.get_contador())\n",
    "\n",
    "main()"
   ]
  },
  {
   "cell_type": "markdown",
   "id": "5ee7ba84",
   "metadata": {},
   "source": [
    "### Actividad de producto:\n",
    "1. Crea una clase Producto con un atributo precio.\n",
    "2. Haz que precio solo pueda leerse y no modificarse directamente (get-only property)."
   ]
  },
  {
   "cell_type": "code",
   "execution_count": null,
   "id": "c3e4d8ed",
   "metadata": {},
   "outputs": [],
   "source": [
    "# 1. clase producto\n",
    "class Producto:\n",
    "    def __init__(self, precio):\n",
    "        self._precio = precio\n",
    "\n",
    "    # 2. Solo lectura\n",
    "    @property\n",
    "    def precio(self):\n",
    "        return self._precio\n",
    "    \n",
    "def main():\n",
    "    p1 = Producto(37)\n",
    "    print(p1.precio)\n",
    "\n",
    "    p1.precio = 50\n",
    "\n",
    "main()"
   ]
  },
  {
   "cell_type": "markdown",
   "id": "e0667a80",
   "metadata": {},
   "source": [
    "### Usando abc, crea una clase abstracta Figura con un método abstracto area(). Luego crea dos clases hijas Cuadrado y Circulo que implementan area()."
   ]
  },
  {
   "cell_type": "code",
   "execution_count": null,
   "id": "13be9ffd",
   "metadata": {},
   "outputs": [],
   "source": [
    "from abc import ABC, abstractmethod\n",
    "\n",
    "class Figura(ABC):\n",
    "\n",
    "    @abstractmethod\n",
    "    def area(self):\n",
    "        pass\n",
    "\n",
    "class Circulo(Figura):\n",
    "    def __init__(self, radio):\n",
    "        self.radio = radio\n",
    "\n",
    "    def area(self):\n",
    "        return 3.141592 * self.radio * 2\n",
    "    \n",
    "class Cuadrado(Figura):\n",
    "    def __init__(self, lado):\n",
    "        self.lado = lado\n",
    "\n",
    "    def area(self):\n",
    "        return self.lado ** 2\n",
    "    \n",
    "def main():\n",
    "    c1 = Circulo(3)\n",
    "    print(\"El área del círculo es de\",c1.area(),\"cm2\")\n",
    "\n",
    "    cuad1 = Cuadrado(2)\n",
    "    print(\"El área del cuadrado es de\",cuad1.area(),\"cm2\")\n",
    "\n",
    "main()"
   ]
  }
 ],
 "metadata": {
  "kernelspec": {
   "display_name": ".venv (3.13.9)",
   "language": "python",
   "name": "python3"
  },
  "language_info": {
   "codemirror_mode": {
    "name": "ipython",
    "version": 3
   },
   "file_extension": ".py",
   "mimetype": "text/x-python",
   "name": "python",
   "nbconvert_exporter": "python",
   "pygments_lexer": "ipython3",
   "version": "3.13.9"
  }
 },
 "nbformat": 4,
 "nbformat_minor": 5
}
