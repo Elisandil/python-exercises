{
 "cells": [
  {
   "cell_type": "markdown",
   "id": "23002719",
   "metadata": {},
   "source": [
    "# Hoja de Práctica - Introducción a NumPy"
   ]
  },
  {
   "cell_type": "code",
   "execution_count": 3,
   "id": "70b638a8",
   "metadata": {},
   "outputs": [],
   "source": [
    "import numpy as np"
   ]
  },
  {
   "cell_type": "markdown",
   "id": "a2e40e11",
   "metadata": {},
   "source": [
    "### Ejercicio 1 – Crear y explorar arrays:\n",
    "Crea un array NumPy con los números del 1 al 10. Luego muestra:\n",
    "1. El tipo de dato del array\n",
    "2. La forma (shape)\n",
    "3. El número de dimensiones\n",
    "4. El tamaño (cantidad de elementos)"
   ]
  },
  {
   "cell_type": "code",
   "execution_count": null,
   "id": "ed433383",
   "metadata": {},
   "outputs": [],
   "source": [
    "def main():\n",
    "    a = np.array(range(1, 11))\n",
    "    print(a.dtype)\n",
    "    print(a.shape)\n",
    "    print(a.ndim)\n",
    "    print(a.size)\n",
    "\n",
    "main()"
   ]
  },
  {
   "cell_type": "markdown",
   "id": "8ed22916",
   "metadata": {},
   "source": [
    "### Ejercicio 2 – Operaciones aritméticas:\n",
    "Crea dos arrays de 5 elementos cada uno con valores enteros. Realiza las siguientes operaciones elemento a elemento: \n",
    "1. Suma \n",
    "2. Resta\n",
    "3. Multiplicación\n",
    "4. División."
   ]
  },
  {
   "cell_type": "code",
   "execution_count": null,
   "id": "5136c606",
   "metadata": {},
   "outputs": [],
   "source": [
    "def main():\n",
    "    a = np.array(range(1,6))\n",
    "    b = np.array(range(12, 17))\n",
    "\n",
    "    print(a + b)\n",
    "    print(b - a)\n",
    "    print(a * b)\n",
    "    print(a / b)\n",
    "\n",
    "main()"
   ]
  },
  {
   "cell_type": "markdown",
   "id": "fb38f9a5",
   "metadata": {},
   "source": [
    "### Ejercicio 3 – Indexación y slicing:\n",
    "Crea un array con los números del 0 al 19. Muestra:\n",
    "1. Los primeros 5 elementos\n",
    "2. Los últimos 5 elementos\n",
    "3. Los elementos en posiciones pares\n",
    "4. Cambia el valor del elemento en la posición 3 por 99"
   ]
  },
  {
   "cell_type": "code",
   "execution_count": null,
   "id": "cbab8caa",
   "metadata": {},
   "outputs": [],
   "source": [
    "def main():\n",
    "    a = np.array(range(0, 20))\n",
    "    print(a[:5])\n",
    "    print(a[-5:])\n",
    "    print(a[::2])\n",
    "    a[3] = 99\n",
    "    print(a) \n",
    "\n",
    "main()"
   ]
  },
  {
   "cell_type": "markdown",
   "id": "54671c47",
   "metadata": {},
   "source": [
    "## Ejercicio 4 – Estadística con NumPy:\n",
    "Crea un array de 10 números aleatorios entre 0 y 100. Calcula y muestra: \n",
    "1. El valor máximo \n",
    "2. El valor mínimo\n",
    "3. La media\n",
    "4. La desviación estándar."
   ]
  },
  {
   "cell_type": "code",
   "execution_count": null,
   "id": "66777923",
   "metadata": {},
   "outputs": [],
   "source": [
    "def main():\n",
    "    a = np.random.randint(1, 101, size=10)\n",
    "    print(a.max())\n",
    "    print(a.min())\n",
    "    print(a.mean())\n",
    "    print(a.std())\n",
    "\n",
    "main()"
   ]
  },
  {
   "cell_type": "markdown",
   "id": "d5dd196e",
   "metadata": {},
   "source": [
    "### Ejercicio 5 – Matrices y álgebra lineal:\n",
    "Crea dos matrices de 2x2 y realiza: \n",
    "1. La suma \n",
    "2. La multiplicación de matrices\n",
    "3. La transpuesta de la primera matriz."
   ]
  },
  {
   "cell_type": "code",
   "execution_count": null,
   "id": "3e2ad94c",
   "metadata": {},
   "outputs": [],
   "source": [
    "def main():\n",
    "    a = np.array([[1, 2], [2, 3]])\n",
    "    b = np.array([[5, 6], [8, 12]])\n",
    "\n",
    "    print(np.add(a, b))\n",
    "    print(np.dot(a, b))\n",
    "    print(a.T)\n",
    "\n",
    "main()"
   ]
  },
  {
   "cell_type": "markdown",
   "id": "e56d2da6",
   "metadata": {},
   "source": [
    "### Ejercicio 6 – Normalización de datos:\n",
    "Dada la lista [12, 45, 67, 23, 89, 34], conviértela a un array NumPy y normalízalo en el rango 0-1 usando la fórmula: (x - min) / (max - min)."
   ]
  },
  {
   "cell_type": "code",
   "execution_count": null,
   "id": "5aea536d",
   "metadata": {},
   "outputs": [],
   "source": [
    "def main():\n",
    "    list = [12, 45, 67, 23, 89, 34]\n",
    "    a = np.array(list)\n",
    "    print(a)\n",
    "    a_norm = (a - np.min(a) / np.max(a) - np.min(a))\n",
    "    print(a_norm)\n",
    "\n",
    "main()"
   ]
  }
 ],
 "metadata": {
  "kernelspec": {
   "display_name": "base",
   "language": "python",
   "name": "python3"
  },
  "language_info": {
   "codemirror_mode": {
    "name": "ipython",
    "version": 3
   },
   "file_extension": ".py",
   "mimetype": "text/x-python",
   "name": "python",
   "nbconvert_exporter": "python",
   "pygments_lexer": "ipython3",
   "version": "3.13.5"
  }
 },
 "nbformat": 4,
 "nbformat_minor": 5
}
