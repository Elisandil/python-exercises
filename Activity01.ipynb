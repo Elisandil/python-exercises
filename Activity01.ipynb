{
 "cells": [
  {
   "cell_type": "markdown",
   "id": "7d2c250b",
   "metadata": {},
   "source": [
    "## ACTIVIDAD 01 - PROGRAMACIÓN DE IA"
   ]
  },
  {
   "cell_type": "markdown",
   "id": "abbb26b5",
   "metadata": {},
   "source": [
    "### Función select_file():\n",
    "Abre un diálogo gráfico para que el usuario seleccione un archivo CSV."
   ]
  },
  {
   "cell_type": "code",
   "execution_count": 45,
   "id": "a61b1345",
   "metadata": {},
   "outputs": [],
   "source": [
    "import csv\n",
    "import tkinter as tk\n",
    "from tkinter import filedialog\n",
    "\n",
    "def select_file():\n",
    "    root = tk.Tk()\n",
    "    root.withdraw()\n",
    "    root.attributes('-topmost', True)\n",
    "    \n",
    "    file = filedialog.askopenfilename(\n",
    "        title=\"Seleccionar archivo CSV de personas\",\n",
    "        filetypes=[(\"Archivos CSV\", \"*.csv\"), (\"Todos los archivos\", \"*.*\")]\n",
    "    )\n",
    "    root.destroy()\n",
    "\n",
    "    return file if file else None"
   ]
  },
  {
   "cell_type": "markdown",
   "id": "cf183548",
   "metadata": {},
   "source": [
    "### Función load_data(file_path):\n",
    "Lee el archivo CSV y convierte los datos en una estructura de datos. \n",
    "Maneja errores de archivo no encontrado o problemas de lectura"
   ]
  },
  {
   "cell_type": "code",
   "execution_count": null,
   "id": "08a58868",
   "metadata": {},
   "outputs": [],
   "source": [
    "def load_data(file_path):\n",
    "    people = []\n",
    "    \n",
    "    try:\n",
    "        with open(file_path, 'r', encoding='utf-8') as file:\n",
    "            csv_reader = csv.DictReader(file)\n",
    "            \n",
    "            for row in csv_reader:\n",
    "                person = {\n",
    "                    'nombre': row['nombre'],\n",
    "                    'edad': int(row['edad']),\n",
    "                    'altura': float(row['altura']),\n",
    "                    'peso': float(row['peso']),\n",
    "                    'localidad': row['localidad']\n",
    "                }\n",
    "                people.append(person)\n",
    "\n",
    "        return people\n",
    "    \n",
    "    except FileNotFoundError:\n",
    "        print(f\"Error: No se encontró el archivo '{file_path}'\")\n",
    "        return None\n",
    "    except Exception as ex:\n",
    "        print(f\"Error al cargar el archivo: {ex}\")\n",
    "        return None"
   ]
  },
  {
   "cell_type": "markdown",
   "id": "db85e05b",
   "metadata": {},
   "source": [
    "### Función show_person(person):\n",
    "Función auxiliar que formatea y muestra la información de una persona."
   ]
  },
  {
   "cell_type": "code",
   "execution_count": 47,
   "id": "37941ad1",
   "metadata": {},
   "outputs": [],
   "source": [
    "def show_person(person):\n",
    "    print(f\"\\tNombre: {person['nombre']}\")\n",
    "    print(f\"\\tEdad: {person['edad']} años\")\n",
    "    print(f\"\\tAltura: {person['altura']} m\")\n",
    "    print(f\"\\tPeso: {person['peso']} kg\")\n",
    "    print(f\"\\tLocalidad: {person['localidad']}\")"
   ]
  },
  {
   "cell_type": "markdown",
   "id": "1d12f2f7",
   "metadata": {},
   "source": [
    "### Función calculate_average_age(people):\n",
    "Se corresponde con el primer punto de la actividad. \n",
    "Calcula y muestra la edad promedio de todas las personas."
   ]
  },
  {
   "cell_type": "code",
   "execution_count": 48,
   "id": "2c6f9cf9",
   "metadata": {},
   "outputs": [],
   "source": [
    "def calculate_average_age(people):\n",
    "    print(\"\\n\")\n",
    "    print(\"1. ANÁLISIS DE EDAD\")\n",
    "\n",
    "    total_age = sum(p['edad'] for p in people)\n",
    "    average_age = total_age / len(people)\n",
    "    print(f\"Media de edad: {average_age:.2f} años\")"
   ]
  },
  {
   "cell_type": "markdown",
   "id": "ab9f8192",
   "metadata": {},
   "source": [
    "### Función younger_and_older(people):\n",
    "Se corresponde con el segundo punto de la actividad. \n",
    "Identifica y muestra la persona más joven y la más vieja del csv."
   ]
  },
  {
   "cell_type": "code",
   "execution_count": 49,
   "id": "61433cd3",
   "metadata": {},
   "outputs": [],
   "source": [
    "def younger_and_older(people):\n",
    "    print(\"\\n\")\n",
    "    print(\"2. PERSONA MÁS JOVEN Y MÁS VIEJA\")\n",
    "    \n",
    "    youngest_person = min(people, key=lambda p: p['edad'])\n",
    "    oldest_person = max(people, key=lambda p: p['edad'])\n",
    "    \n",
    "    print(\"Persona más joven:\")\n",
    "    show_person(youngest_person)\n",
    "\n",
    "    print(\"\\nPersona más vieja:\")\n",
    "    show_person(oldest_person)"
   ]
  },
  {
   "cell_type": "markdown",
   "id": "612e5a49",
   "metadata": {},
   "source": [
    "### Función calculate_average_height(people):\n",
    "Se corresponde con el tercer punto de la actividad.\n",
    "Calcula y muestra la altura promedio de todas las personas."
   ]
  },
  {
   "cell_type": "code",
   "execution_count": 50,
   "id": "5f3c6c8f",
   "metadata": {},
   "outputs": [],
   "source": [
    "def calculate_average_height(people):\n",
    "    print(\"\\n\")\n",
    "    print(\"3. ANÁLISIS DE ALTURA\")\n",
    "\n",
    "    total_height = sum(p['altura'] for p in people)\n",
    "    average_height = total_height / len(people)\n",
    "    print(f\"Media de altura: {average_height:.2f} metros\")"
   ]
  },
  {
   "cell_type": "markdown",
   "id": "48b65d68",
   "metadata": {},
   "source": [
    "### Función tallest_and_smallest(people):\n",
    "Se corresponde con el cuarto punto de la actividad.\n",
    "Identifica y muestra la persona más alta y la más baja."
   ]
  },
  {
   "cell_type": "code",
   "execution_count": 51,
   "id": "10a4b542",
   "metadata": {},
   "outputs": [],
   "source": [
    "def tallest_and_smallest(people):\n",
    "    print(\"\\n\")\n",
    "    print(\"4. PERSONA MÁS ALTA Y MÁS BAJA\")\n",
    "    \n",
    "    tallest_person = max(people, key=lambda p: p['altura'])\n",
    "    smallest_person = min(people, key=lambda p: p['altura'])\n",
    "    \n",
    "    print(\"Persona más alta:\")\n",
    "    show_person(tallest_person)\n",
    "    \n",
    "    print(\"\\nPersona más baja:\")\n",
    "    show_person(smallest_person)"
   ]
  },
  {
   "cell_type": "markdown",
   "id": "e05b36ce",
   "metadata": {},
   "source": [
    "### Función heavier_and_lighter(people):\n",
    "Se corresponde con el quinto punto de la actividad.\n",
    "Identifica y muestra la persona con mayor y menor peso."
   ]
  },
  {
   "cell_type": "code",
   "execution_count": 52,
   "id": "abc93e27",
   "metadata": {},
   "outputs": [],
   "source": [
    "def heavier_and_lighter(people):\n",
    "    print(\"\\n\")\n",
    "    print(\"5. PERSONA CON MÁS PESO Y MENOS PESO\")\n",
    "    \n",
    "    heavier_person = max(people, key=lambda p: p['peso'])\n",
    "    lighter_person = min(people, key=lambda p: p['peso'])\n",
    "    \n",
    "    print(\"Persona con más peso:\")\n",
    "    show_person(heavier_person)\n",
    "\n",
    "    print(\"\\nPersona con menos peso:\")\n",
    "    show_person(lighter_person)"
   ]
  },
  {
   "cell_type": "markdown",
   "id": "dd556084",
   "metadata": {},
   "source": [
    "### Función analyze_cities(people):\n",
    "Se corresponde con el sexto punto de la actividad.\n",
    "Analiza la distribución de personas por localidad y muestra las 5 ciudades con más personas."
   ]
  },
  {
   "cell_type": "code",
   "execution_count": 53,
   "id": "996c571d",
   "metadata": {},
   "outputs": [],
   "source": [
    "def analyze_cities(people):\n",
    "    print(\"\\n\")\n",
    "    print(\"6. LOCALIDAD CON MÁS PERSONAS\")\n",
    "    \n",
    "    total_cities = {}\n",
    "    for person in people:\n",
    "        city = person['localidad']\n",
    "        total_cities[city] = total_cities.get(city, 0) + 1\n",
    "    \n",
    "    localidad_max = max(total_cities, key=total_cities.get)\n",
    "    cantidad_max = total_cities[localidad_max]\n",
    "    \n",
    "    print(f\"Localidad con más personas: {localidad_max}\")\n",
    "    print(f\"Número de personas: {cantidad_max}\")\n",
    "    \n",
    "    sorted_cities = sorted(total_cities.items(), key=lambda x: x[1], reverse=True)\n",
    "    \n",
    "    print(\"\\nTop 5 localidades con más personas:\")\n",
    "    \n",
    "    for i, (city, quantity) in enumerate(sorted_cities[:5], 1):\n",
    "        print(f\"{i}. {city}: {quantity} personas\")"
   ]
  },
  {
   "cell_type": "markdown",
   "id": "916e6214",
   "metadata": {},
   "source": [
    "### Función make_analysis(people):\n",
    "Función que ejecuta todos los análisis de forma secuencial."
   ]
  },
  {
   "cell_type": "code",
   "execution_count": 54,
   "id": "5177b749",
   "metadata": {},
   "outputs": [],
   "source": [
    "def make_analysis(people):\n",
    "    print(f\"Total de personas en el dataset: {len(people)}\")\n",
    "    \n",
    "    calculate_average_age(people)\n",
    "    younger_and_older(people)\n",
    "    calculate_average_height(people)\n",
    "    tallest_and_smallest(people)\n",
    "    heavier_and_lighter(people)\n",
    "    analyze_cities(people)"
   ]
  },
  {
   "cell_type": "markdown",
   "id": "2efca94c",
   "metadata": {},
   "source": [
    "### Función main():\n",
    "Punto de entrada del programa. \n",
    "Se encarga de orquestar todo el flujo del programa."
   ]
  },
  {
   "cell_type": "code",
   "execution_count": 55,
   "id": "21bafae8",
   "metadata": {},
   "outputs": [
    {
     "name": "stdout",
     "output_type": "stream",
     "text": [
      "Bienvenido\n",
      "Archivo seleccionado: C:/Users/Antonio/Desktop/FP/GitHub/ejercicios-python/personas.csv\n",
      "Total de personas en el dataset: 100\n",
      "\n",
      "\n",
      "1. ANÁLISIS DE EDAD\n",
      "Media de edad: 44.46 años\n",
      "\n",
      "\n",
      "2. PERSONA MÁS JOVEN Y MÁS VIEJA\n",
      "Persona más joven:\n",
      "\tNombre: Pablo Martínez\n",
      "\tEdad: 12 años\n",
      "\tAltura: 1.73 m\n",
      "\tPeso: 51.8 kg\n",
      "\tLocalidad: Santander\n",
      "\n",
      "Persona más vieja:\n",
      "\tNombre: Andrés Fernández\n",
      "\tEdad: 80 años\n",
      "\tAltura: 1.46 m\n",
      "\tPeso: 81.7 kg\n",
      "\tLocalidad: Alicante\n",
      "\n",
      "\n",
      "3. ANÁLISIS DE ALTURA\n",
      "Media de altura: 1.70 metros\n",
      "\n",
      "\n",
      "4. PERSONA MÁS ALTA Y MÁS BAJA\n",
      "Persona más alta:\n",
      "\tNombre: Clara López\n",
      "\tEdad: 41 años\n",
      "\tAltura: 2.0 m\n",
      "\tPeso: 64.5 kg\n",
      "\tLocalidad: Zaragoza\n",
      "\n",
      "Persona más baja:\n",
      "\tNombre: Carlos López\n",
      "\tEdad: 56 años\n",
      "\tAltura: 1.45 m\n",
      "\tPeso: 45.3 kg\n",
      "\tLocalidad: Murcia\n",
      "\n",
      "\n",
      "5. PERSONA CON MÁS PESO Y MENOS PESO\n",
      "Persona con más peso:\n",
      "\tNombre: Elena García\n",
      "\tEdad: 52 años\n",
      "\tAltura: 1.55 m\n",
      "\tPeso: 99.9 kg\n",
      "\tLocalidad: Córdoba\n",
      "\n",
      "Persona con menos peso:\n",
      "\tNombre: Carlos López\n",
      "\tEdad: 56 años\n",
      "\tAltura: 1.45 m\n",
      "\tPeso: 45.3 kg\n",
      "\tLocalidad: Murcia\n",
      "\n",
      "\n",
      "6. LOCALIDAD CON MÁS PERSONAS\n",
      "Localidad con más personas: Granada\n",
      "Número de personas: 14\n",
      "\n",
      "Top 5 localidades con más personas:\n",
      "1. Granada: 14 personas\n",
      "2. Sevilla: 10 personas\n",
      "3. Zaragoza: 10 personas\n",
      "4. Madrid: 9 personas\n",
      "5. Santander: 8 personas\n"
     ]
    }
   ],
   "source": [
    "def main():\n",
    "    print(\"Bienvenido\")\n",
    "    file_path = select_file()\n",
    "    \n",
    "    if not file_path:\n",
    "        print(\"No se seleccionó ningún archivo.\")\n",
    "        return\n",
    "    \n",
    "    print(f\"Archivo seleccionado: {file_path}\")\n",
    "    people = load_data(file_path)\n",
    "    make_analysis(people)\n",
    "pass\n",
    "\n",
    "if __name__ == \"__main__\":\n",
    "    main()"
   ]
  }
 ],
 "metadata": {
  "kernelspec": {
   "display_name": ".venv",
   "language": "python",
   "name": "python3"
  },
  "language_info": {
   "codemirror_mode": {
    "name": "ipython",
    "version": 3
   },
   "file_extension": ".py",
   "mimetype": "text/x-python",
   "name": "python",
   "nbconvert_exporter": "python",
   "pygments_lexer": "ipython3",
   "version": "3.13.7"
  }
 },
 "nbformat": 4,
 "nbformat_minor": 5
}
